{
  "nbformat": 4,
  "nbformat_minor": 0,
  "metadata": {
    "colab": {
      "name": "MachineLearningForTimeSeries.ipynb",
      "provenance": [],
      "collapsed_sections": [],
      "toc_visible": true,
      "authorship_tag": "ABX9TyPWzQGqH7LTA0ZkRVbKOHJx",
      "include_colab_link": true
    },
    "kernelspec": {
      "name": "python3",
      "display_name": "Python 3"
    },
    "language_info": {
      "name": "python"
    }
  },
  "cells": [
    {
      "cell_type": "markdown",
      "metadata": {
        "id": "view-in-github",
        "colab_type": "text"
      },
      "source": [
        "<a href=\"https://colab.research.google.com/github/inandout-kr/timeSeriesAnalysis/blob/main/ML_for_time-series.ipynb\" target=\"_parent\"><img src=\"https://colab.research.google.com/assets/colab-badge.svg\" alt=\"Open In Colab\"/></a>"
      ]
    },
    {
      "cell_type": "code",
      "source": [
        "!pip install cesium"
      ],
      "metadata": {
        "id": "90Wa5twGQ_xs"
      },
      "execution_count": null,
      "outputs": []
    },
    {
      "cell_type": "code",
      "source": [
        "import matplotlib.pyplot as plt\n",
        "plt.rcParams['figure.figsize'] = [20, 10]\n",
        "\n",
        "import cesium\n",
        "import xgboost as xgb\n",
        "import numpy as np\n",
        "import matplotlib.pyplot as plt\n",
        "import pandas as pd\n",
        "import time\n",
        "\n",
        "from cesium import datasets\n",
        "from cesium import featurize as ft\n",
        "\n",
        "import scipy\n",
        "from scipy.stats import pearsonr, spearmanr\n",
        "from scipy.stats import skew\n",
        "\n",
        "import sklearn\n",
        "from sklearn.ensemble import RandomForestClassifier\n",
        "from sklearn.metrics import accuracy_score\n",
        "from sklearn.model_selection import train_test_split"
      ],
      "metadata": {
        "id": "mfImprQmRvdH"
      },
      "execution_count": null,
      "outputs": []
    },
    {
      "cell_type": "markdown",
      "source": [
        "# **ML for Time Series 시계열을 위한 머신러닝**\n",
        "\n",
        "Clustering과 tree based method로 predict와 classification 문제를 다룬다.\n",
        "\n",
        "시계열의 특징 생성은 tree based method에서 반드시 필요한 과정이다. 앞서 공부했던 ARIMA 모델과는 달리 '시간을 인식'하는 방법론이 아니기 때문이다.\n",
        "\n",
        "Clustering, 거리 기반 classification은 input으로 원본 시계열이나 특징을 사용할 수 있다.\n",
        "\n",
        "시계열 자체를 input으로 사용하려면, dynamic time warping(DTW, 동적시간워핑)이라는 거리 평가 지표를 알아야 한다.\n",
        "\n",
        "시계열에 직접적으로 적용되는 동적시간워핑은 데이터 전체에 대한 시간 정보를 보존한다. 제한된 특징 목록을 사용하는 방법과는 다르다."
      ],
      "metadata": {
        "id": "RshKaNGHQvrP"
      }
    },
    {
      "cell_type": "markdown",
      "source": [
        "## **1. 시계열 분류**\n",
        "- Electroencephalogram(EEG, 원시 뇌전도) 시계열 데이터에 대한 특징을 만드는 예\n",
        "    - 머신러닝 알고리즘에 사용\n",
        "- EEG 시계열 특징 추출 후, decision tree(결정 트리) 기법으로 EEG 데이터 분류"
      ],
      "metadata": {
        "id": "ibBNo8UFQyOo"
      }
    },
    {
      "cell_type": "markdown",
      "source": [
        "### **1.1 특징의 선택과 생성**\n",
        "- cesium 패키지로 특징 생성\n",
        "    - 장점 중 한 가지는, 여러 가지 유용한 데이터셋을 제공한다는 점"
      ],
      "metadata": {
        "id": "vPFxAF93QyKe"
      }
    },
    {
      "cell_type": "markdown",
      "source": [
        "데이터셋에 다섯 종류의 EEG 시게열이 존재하고, 각 시계열은 모두 길이가 다르다."
      ],
      "metadata": {
        "id": "Kuc64rFcQ4Cy"
      }
    },
    {
      "cell_type": "code",
      "source": [
        "# cesium 함수 사용해 데이터셋 다운로드\n",
        "from cesium import datasets\n",
        "eeg = datasets.fetch_andrzejak()"
      ],
      "metadata": {
        "colab": {
          "base_uri": "https://localhost:8080/"
        },
        "id": "wX92hCx8Q3QB",
        "outputId": "513724af-435c-475c-dbb8-30a8ba0f96a6"
      },
      "execution_count": null,
      "outputs": [
        {
          "output_type": "stream",
          "name": "stderr",
          "text": [
            "Downloading data from https://github.com/cesium-ml/cesium-data/raw/master/andrzejak/\n"
          ]
        }
      ]
    },
    {
      "cell_type": "code",
      "source": [
        "type(eeg)"
      ],
      "metadata": {
        "colab": {
          "base_uri": "https://localhost:8080/"
        },
        "id": "qotYCzYVRNda",
        "outputId": "54f96135-a165-4a29-fb65-1754d756ca7d"
      },
      "execution_count": null,
      "outputs": [
        {
          "output_type": "execute_result",
          "data": {
            "text/plain": [
              "dict"
            ]
          },
          "metadata": {},
          "execution_count": 9
        }
      ]
    },
    {
      "cell_type": "code",
      "source": [
        "# 샘플 확인\n",
        "plt.subplot(3, 1, 1)\n",
        "plt.plot(eeg[\"measurements\"][0])\n",
        "plt.legend(eeg['classes'][0])\n",
        "plt.subplot(3, 1, 2)\n",
        "plt.plot(eeg[\"measurements\"][300])\n",
        "plt.legend(eeg['classes'][300])\n",
        "plt.subplot(3, 1, 3)\n",
        "plt.plot(eeg[\"measurements\"][450])\n",
        "plt.legend(eeg['classes'][450])"
      ],
      "metadata": {
        "colab": {
          "base_uri": "https://localhost:8080/",
          "height": 501
        },
        "id": "2ei6wmF4ResQ",
        "outputId": "fd2670d4-4353-43da-ece9-47e92ab539be"
      },
      "execution_count": null,
      "outputs": [
        {
          "output_type": "execute_result",
          "data": {
            "text/plain": [
              "<matplotlib.legend.Legend at 0x7f436d3394d0>"
            ]
          },
          "metadata": {},
          "execution_count": 14
        },
        {
          "output_type": "display_data",
          "data": {
            "image/png": "[encoded data removed]",
            "text/plain": [
              "<Figure size 1440x720 with 3 Axes>"
            ]
          },
          "metadata": {
            "needs_background": "light"
          }
        }
      ]
    },
    {
      "cell_type": "code",
      "source": [
        "type(eeg[\"measurements\"][0])"
      ],
      "metadata": {
        "colab": {
          "base_uri": "https://localhost:8080/"
        },
        "id": "HXbwW2tfWFoj",
        "outputId": "1e44c42b-85d2-4edd-d240-4dabe4fb95de"
      },
      "execution_count": null,
      "outputs": [
        {
          "output_type": "execute_result",
          "data": {
            "text/plain": [
              "numpy.ndarray"
            ]
          },
          "metadata": {},
          "execution_count": 19
        }
      ]
    },
    {
      "cell_type": "code",
      "source": [
        "type(eeg)"
      ],
      "metadata": {
        "colab": {
          "base_uri": "https://localhost:8080/"
        },
        "id": "8azM7JPLWGYw",
        "outputId": "0bacda56-29b5-4e64-ecc1-e5001c15b7ae"
      },
      "execution_count": null,
      "outputs": [
        {
          "output_type": "execute_result",
          "data": {
            "text/plain": [
              "dict"
            ]
          },
          "metadata": {},
          "execution_count": 20
        }
      ]
    },
    {
      "cell_type": "code",
      "source": [
        "eeg.keys()"
      ],
      "metadata": {
        "colab": {
          "base_uri": "https://localhost:8080/"
        },
        "id": "K-Km6WwlWHIY",
        "outputId": "3bf276af-7845-4135-c2ce-408096020b1a"
      },
      "execution_count": null,
      "outputs": [
        {
          "output_type": "execute_result",
          "data": {
            "text/plain": [
              "dict_keys(['times', 'measurements', 'classes', 'archive', 'header'])"
            ]
          },
          "metadata": {},
          "execution_count": 21
        }
      ]
    },
    {
      "cell_type": "code",
      "source": [
        "type(eeg['measurements'])"
      ],
      "metadata": {
        "colab": {
          "base_uri": "https://localhost:8080/"
        },
        "id": "ZrQcT8DsWH6_",
        "outputId": "161acfd1-1b66-48b6-8730-f5c9edc617e8"
      },
      "execution_count": null,
      "outputs": [
        {
          "output_type": "execute_result",
          "data": {
            "text/plain": [
              "list"
            ]
          },
          "metadata": {},
          "execution_count": 22
        }
      ]
    },
    {
      "cell_type": "code",
      "source": [
        "len(eeg['measurements'])"
      ],
      "metadata": {
        "colab": {
          "base_uri": "https://localhost:8080/"
        },
        "id": "gGbWOIQAWJQ_",
        "outputId": "463aeedf-728b-48f8-f68f-a190c24ad401"
      },
      "execution_count": null,
      "outputs": [
        {
          "output_type": "execute_result",
          "data": {
            "text/plain": [
              "500"
            ]
          },
          "metadata": {},
          "execution_count": 23
        }
      ]
    },
    {
      "cell_type": "code",
      "source": [
        "eeg['measurements'][0].shape"
      ],
      "metadata": {
        "colab": {
          "base_uri": "https://localhost:8080/"
        },
        "id": "ly_eWWaUWKSA",
        "outputId": "5b52f453-d16b-4fa5-fb05-2704ed4d9599"
      },
      "execution_count": null,
      "outputs": [
        {
          "output_type": "execute_result",
          "data": {
            "text/plain": [
              "(4097,)"
            ]
          },
          "metadata": {},
          "execution_count": 24
        }
      ]
    },
    {
      "cell_type": "markdown",
      "source": [
        "EEG 데이터셋 중 임의로 선택된 세 개의 표본에 대한 그래프.\n",
        "\n",
        "건강한 사람과 간질 환자를 대상으로 서로 다른 두뇌 활동을 측정한 것. 서로 독립적이다."
      ],
      "metadata": {
        "id": "gvMWKDuFVBds"
      }
    },
    {
      "cell_type": "markdown",
      "source": [
        "이는 특징 생성에 대한 가이드를 제공한다. \n",
        "\n",
        "가령 Z와 F는 S보다 덜 편향된 것으로 보이고, y축을 보면 각 범주는 꽤 다른 범위의 값으로 구성되었다.\n",
        "- 진폭이 유용할 수 있다는 것을 시사\n",
        "- 단지 진폭 뿐이 아니라, 서로 다른 특성을 지닌 것으로 보이는 데이터의 전반적인 분포도 유용\n"
      ],
      "metadata": {
        "id": "uWoXBaWVViDr"
      }
    },
    {
      "cell_type": "markdown",
      "source": [
        "#### cesium으로 특징을 생성하는 방법"
      ],
      "metadata": {
        "id": "YmYVWx5dV4nY"
      }
    },
    {
      "cell_type": "code",
      "source": [
        "from cesium import featurize as ft\n",
        "features_to_use = [\"amplitude\",\n",
        "                   \"percent_beyond_1_std\",\n",
        "                   \"percent_close_to_median\",\n",
        "                  \"skew\",\n",
        "                  \"max_slope\"]\n",
        "fset_cesium = ft.featurize_time_series(times=eeg[\"times\"],\n",
        "                                              values=eeg[\"measurements\"],\n",
        "                                              errors=None,\n",
        "                                              features_to_use=features_to_use,\n",
        "                                             scheduler = None)"
      ],
      "metadata": {
        "id": "HKSk2TbwV77f"
      },
      "execution_count": null,
      "outputs": []
    },
    {
      "cell_type": "code",
      "source": [
        "fset_cesium"
      ],
      "metadata": {
        "colab": {
          "base_uri": "https://localhost:8080/",
          "height": 455
        },
        "id": "mlKOGdkNWbXf",
        "outputId": "100d2623-1cd0-409c-9b61-37f6dae97a2c"
      },
      "execution_count": null,
      "outputs": [
        {
          "output_type": "execute_result",
          "data": {
            "text/html": [
              "\n",
              "  <div id=\"df-40cda7c5-8ab9-4d8c-92fe-bf49bf277650\">\n",
              "    <div class=\"colab-df-container\">\n",
              "      <div>\n",
              "<style scoped>\n",
              "    .dataframe tbody tr th:only-of-type {\n",
              "        vertical-align: middle;\n",
              "    }\n",
              "\n",
              "    .dataframe tbody tr th {\n",
              "        vertical-align: top;\n",
              "    }\n",
              "\n",
              "    .dataframe thead tr th {\n",
              "        text-align: left;\n",
              "    }\n",
              "</style>\n",
              "<table border=\"1\" class=\"dataframe\">\n",
              "  <thead>\n",
              "    <tr>\n",
              "      <th>feature</th>\n",
              "      <th>amplitude</th>\n",
              "      <th>percent_beyond_1_std</th>\n",
              "      <th>percent_close_to_median</th>\n",
              "      <th>skew</th>\n",
              "      <th>max_slope</th>\n",
              "    </tr>\n",
              "    <tr>\n",
              "      <th>channel</th>\n",
              "      <th>0</th>\n",
              "      <th>0</th>\n",
              "      <th>0</th>\n",
              "      <th>0</th>\n",
              "      <th>0</th>\n",
              "    </tr>\n",
              "  </thead>\n",
              "  <tbody>\n",
              "    <tr>\n",
              "      <th>0</th>\n",
              "      <td>143.5</td>\n",
              "      <td>0.327313</td>\n",
              "      <td>0.505004</td>\n",
              "      <td>0.032805</td>\n",
              "      <td>11107.796610</td>\n",
              "    </tr>\n",
              "    <tr>\n",
              "      <th>1</th>\n",
              "      <td>211.5</td>\n",
              "      <td>0.290212</td>\n",
              "      <td>0.640469</td>\n",
              "      <td>-0.092715</td>\n",
              "      <td>20653.559322</td>\n",
              "    </tr>\n",
              "    <tr>\n",
              "      <th>2</th>\n",
              "      <td>165.0</td>\n",
              "      <td>0.302660</td>\n",
              "      <td>0.515987</td>\n",
              "      <td>-0.004100</td>\n",
              "      <td>13537.627119</td>\n",
              "    </tr>\n",
              "    <tr>\n",
              "      <th>3</th>\n",
              "      <td>171.5</td>\n",
              "      <td>0.300952</td>\n",
              "      <td>0.541128</td>\n",
              "      <td>0.063678</td>\n",
              "      <td>17008.813559</td>\n",
              "    </tr>\n",
              "    <tr>\n",
              "      <th>4</th>\n",
              "      <td>170.0</td>\n",
              "      <td>0.305101</td>\n",
              "      <td>0.566268</td>\n",
              "      <td>0.142753</td>\n",
              "      <td>13016.949153</td>\n",
              "    </tr>\n",
              "    <tr>\n",
              "      <th>...</th>\n",
              "      <td>...</td>\n",
              "      <td>...</td>\n",
              "      <td>...</td>\n",
              "      <td>...</td>\n",
              "      <td>...</td>\n",
              "    </tr>\n",
              "    <tr>\n",
              "      <th>495</th>\n",
              "      <td>876.5</td>\n",
              "      <td>0.368318</td>\n",
              "      <td>0.364413</td>\n",
              "      <td>-0.472757</td>\n",
              "      <td>94242.711864</td>\n",
              "    </tr>\n",
              "    <tr>\n",
              "      <th>496</th>\n",
              "      <td>433.0</td>\n",
              "      <td>0.361728</td>\n",
              "      <td>0.394923</td>\n",
              "      <td>0.046880</td>\n",
              "      <td>27595.932203</td>\n",
              "    </tr>\n",
              "    <tr>\n",
              "      <th>497</th>\n",
              "      <td>1359.0</td>\n",
              "      <td>0.270442</td>\n",
              "      <td>0.628265</td>\n",
              "      <td>-0.468130</td>\n",
              "      <td>243156.610169</td>\n",
              "    </tr>\n",
              "    <tr>\n",
              "      <th>498</th>\n",
              "      <td>1590.0</td>\n",
              "      <td>0.305589</td>\n",
              "      <td>0.489138</td>\n",
              "      <td>-0.674034</td>\n",
              "      <td>176856.949153</td>\n",
              "    </tr>\n",
              "    <tr>\n",
              "      <th>499</th>\n",
              "      <td>1396.0</td>\n",
              "      <td>0.225775</td>\n",
              "      <td>0.606785</td>\n",
              "      <td>-1.347758</td>\n",
              "      <td>131037.288136</td>\n",
              "    </tr>\n",
              "  </tbody>\n",
              "</table>\n",
              "<p>500 rows × 5 columns</p>\n",
              "</div>\n",
              "      <button class=\"colab-df-convert\" onclick=\"convertToInteractive('df-40cda7c5-8ab9-4d8c-92fe-bf49bf277650')\"\n",
              "              title=\"Convert this dataframe to an interactive table.\"\n",
              "              style=\"display:none;\">\n",
              "        \n",
              "  <svg xmlns=\"http://www.w3.org/2000/svg\" height=\"24px\"viewBox=\"0 0 24 24\"\n",
              "       width=\"24px\">\n",
              "    <path d=\"M0 0h24v24H0V0z\" fill=\"none\"/>\n",
              "    <path d=\"M18.56 5.44l.94 2.06.94-2.06 2.06-.94-2.06-.94-.94-2.06-.94 2.06-2.06.94zm-11 1L8.5 8.5l.94-2.06 2.06-.94-2.06-.94L8.5 2.5l-.94 2.06-2.06.94zm10 10l.94 2.06.94-2.06 2.06-.94-2.06-.94-.94-2.06-.94 2.06-2.06.94z\"/><path d=\"M17.41 7.96l-1.37-1.37c-.4-.4-.92-.59-1.43-.59-.52 0-1.04.2-1.43.59L10.3 9.45l-7.72 7.72c-.78.78-.78 2.05 0 2.83L4 21.41c.39.39.9.59 1.41.59.51 0 1.02-.2 1.41-.59l7.78-7.78 2.81-2.81c.8-.78.8-2.07 0-2.86zM5.41 20L4 18.59l7.72-7.72 1.47 1.35L5.41 20z\"/>\n",
              "  </svg>\n",
              "      </button>\n",
              "      \n",
              "  <style>\n",
              "    .colab-df-container {\n",
              "      display:flex;\n",
              "      flex-wrap:wrap;\n",
              "      gap: 12px;\n",
              "    }\n",
              "\n",
              "    .colab-df-convert {\n",
              "      background-color: #E8F0FE;\n",
              "      border: none;\n",
              "      border-radius: 50%;\n",
              "      cursor: pointer;\n",
              "      display: none;\n",
              "      fill: #1967D2;\n",
              "      height: 32px;\n",
              "      padding: 0 0 0 0;\n",
              "      width: 32px;\n",
              "    }\n",
              "\n",
              "    .colab-df-convert:hover {\n",
              "      background-color: #E2EBFA;\n",
              "      box-shadow: 0px 1px 2px rgba(60, 64, 67, 0.3), 0px 1px 3px 1px rgba(60, 64, 67, 0.15);\n",
              "      fill: #174EA6;\n",
              "    }\n",
              "\n",
              "    [theme=dark] .colab-df-convert {\n",
              "      background-color: #3B4455;\n",
              "      fill: #D2E3FC;\n",
              "    }\n",
              "\n",
              "    [theme=dark] .colab-df-convert:hover {\n",
              "      background-color: #434B5C;\n",
              "      box-shadow: 0px 1px 3px 1px rgba(0, 0, 0, 0.15);\n",
              "      filter: drop-shadow(0px 1px 2px rgba(0, 0, 0, 0.3));\n",
              "      fill: #FFFFFF;\n",
              "    }\n",
              "  </style>\n",
              "\n",
              "      <script>\n",
              "        const buttonEl =\n",
              "          document.querySelector('#df-40cda7c5-8ab9-4d8c-92fe-bf49bf277650 button.colab-df-convert');\n",
              "        buttonEl.style.display =\n",
              "          google.colab.kernel.accessAllowed ? 'block' : 'none';\n",
              "\n",
              "        async function convertToInteractive(key) {\n",
              "          const element = document.querySelector('#df-40cda7c5-8ab9-4d8c-92fe-bf49bf277650');\n",
              "          const dataTable =\n",
              "            await google.colab.kernel.invokeFunction('convertToInteractive',\n",
              "                                                     [key], {});\n",
              "          if (!dataTable) return;\n",
              "\n",
              "          const docLinkHtml = 'Like what you see? Visit the ' +\n",
              "            '<a target=\"_blank\" href=https://colab.research.google.com/notebooks/data_table.ipynb>data table notebook</a>'\n",
              "            + ' to learn more about interactive tables.';\n",
              "          element.innerHTML = '';\n",
              "          dataTable['output_type'] = 'display_data';\n",
              "          await google.colab.output.renderOutput(dataTable, element);\n",
              "          const docLink = document.createElement('div');\n",
              "          docLink.innerHTML = docLinkHtml;\n",
              "          element.appendChild(docLink);\n",
              "        }\n",
              "      </script>\n",
              "    </div>\n",
              "  </div>\n",
              "  "
            ],
            "text/plain": [
              "feature amplitude percent_beyond_1_std  ...      skew      max_slope\n",
              "channel         0                    0  ...         0              0\n",
              "0           143.5             0.327313  ...  0.032805   11107.796610\n",
              "1           211.5             0.290212  ... -0.092715   20653.559322\n",
              "2           165.0             0.302660  ... -0.004100   13537.627119\n",
              "3           171.5             0.300952  ...  0.063678   17008.813559\n",
              "4           170.0             0.305101  ...  0.142753   13016.949153\n",
              "..            ...                  ...  ...       ...            ...\n",
              "495         876.5             0.368318  ... -0.472757   94242.711864\n",
              "496         433.0             0.361728  ...  0.046880   27595.932203\n",
              "497        1359.0             0.270442  ... -0.468130  243156.610169\n",
              "498        1590.0             0.305589  ... -0.674034  176856.949153\n",
              "499        1396.0             0.225775  ... -1.347758  131037.288136\n",
              "\n",
              "[500 rows x 5 columns]"
            ]
          },
          "metadata": {},
          "execution_count": 27
        }
      ]
    },
    {
      "cell_type": "markdown",
      "source": [
        "*정규화되지 않은 값이 많다는 사실 유의(일부 기법은 정규화된 input을 가정)\n",
        "\n",
        "- 오류 검사와 상식적인 확인의 한 예로, 시계열 샘플의 percent_beyond_1_std 확인 가능"
      ],
      "metadata": {
        "id": "3PYsd17GWlgT"
      }
    },
    {
      "cell_type": "code",
      "source": [
        "std = np.std(eeg['measurements'][0])\n",
        "std"
      ],
      "metadata": {
        "colab": {
          "base_uri": "https://localhost:8080/"
        },
        "id": "doDf2Mv5W2f4",
        "outputId": "560fdadc-4205-4213-aec7-d60c683d753d"
      },
      "execution_count": null,
      "outputs": [
        {
          "output_type": "execute_result",
          "data": {
            "text/plain": [
              "40.41100040099819"
            ]
          },
          "metadata": {},
          "execution_count": 31
        }
      ]
    },
    {
      "cell_type": "code",
      "source": [
        "mean = np.mean(eeg['measurements'][0])\n",
        "mean"
      ],
      "metadata": {
        "colab": {
          "base_uri": "https://localhost:8080/"
        },
        "id": "qNbYvUN9XRCH",
        "outputId": "3e768e23-3298-49e5-dce5-7fa07edf4122"
      },
      "execution_count": null,
      "outputs": [
        {
          "output_type": "execute_result",
          "data": {
            "text/plain": [
              "-4.1320478398828415"
            ]
          },
          "metadata": {},
          "execution_count": 32
        }
      ]
    },
    {
      "cell_type": "code",
      "source": [
        "sample_ts = eeg['measurements'][0]\n",
        "sz = len(sample_ts)\n",
        "ll = mean - std\n",
        "ul = mean + std\n",
        "quals = [i for i in range(sz) if sample_ts[i] < ll or\n",
        "         sample_ts[i] > ul]\n",
        "\n",
        "len(quals) / sz"
      ],
      "metadata": {
        "colab": {
          "base_uri": "https://localhost:8080/"
        },
        "id": "21Jaj-6NXVXf",
        "outputId": "525edd37-27f9-4df8-c7d8-0ddfa3ac0f08"
      },
      "execution_count": null,
      "outputs": [
        {
          "output_type": "execute_result",
          "data": {
            "text/plain": [
              "0.3273126678057115"
            ]
          },
          "metadata": {},
          "execution_count": 34
        }
      ]
    },
    {
      "cell_type": "code",
      "source": [
        "fset_cesium.iloc[0, 1]"
      ],
      "metadata": {
        "colab": {
          "base_uri": "https://localhost:8080/"
        },
        "id": "yLAEoLW-X06Q",
        "outputId": "c2d6b818-4eab-494b-a6fa-f710ddf0472f"
      },
      "execution_count": null,
      "outputs": [
        {
          "output_type": "execute_result",
          "data": {
            "text/plain": [
              "0.3273126678057115"
            ]
          },
          "metadata": {},
          "execution_count": 39
        }
      ]
    },
    {
      "cell_type": "markdown",
      "source": [
        "특징 생성 라이브러리를 과하기 사용하지 말자.\n",
        "\n",
        "자신만의 특징 생성용 코드를 작성해두자.\n",
        "\n",
        "패키지가 제공할 수 없는 코드의 최적화가 가능하기 때문.\n",
        "\n",
        "가령 시계열의 평균에 의존적인 여러 특징이 있다면, 평균을 매번 계산하기보다 한 번만 계산하는 코드를 작성할 수 있음."
      ],
      "metadata": {
        "id": "aQA6hwa6Yc4Y"
      }
    },
    {
      "cell_type": "markdown",
      "source": [
        "### **1.2 결정 트리 기법**\n",
        "\n",
        "한 번에 한 단계씩, 비선형적인 방식으로 결정\n",
        "\n",
        "한 번에 한 단계씩, 한 변수가 결정에 미치는 미치는 영향력을 생각하는 과정 반복\n",
        "\n",
        "* 결정 트리에 대해 잘 모른다면, 참고: https://perma.cc/G9AA-ANEN (https://towardsdatascience.com/decision-trees-in-machine-learning-641b9c4e8052)"
      ],
      "metadata": {
        "id": "6JUswq_FYsxa"
      }
    },
    {
      "cell_type": "markdown",
      "source": [
        "#### **1.2.1 랜덤포레스트**\n",
        "- 하나가 아닌, 여러 개의 결정 트리 사용\n",
        "- 분류 혹은 회귀의 결과는 각 트리가 내놓은 출력의 평균을 사용\n",
        "- 여러 간단한 결정 트리 모델을 합쳐 '군중의 지혜' 효과 기대(단 하나의 최고의 모델을 찾는 대산, 여러 모델 무리를 앙상블하여 예측)\n",
        "- 랜덤포레스트는 학습될 트리의 개수, 각 트리에 허용되는 최대 깊이에 대한 파라미터에 따라 구조가 결정됨\n",
        "  - 각 개별 트리는 임의로 선정된 데이터 표본과 특징으로 학습됨\n",
        "  - 각 트리는 과적합을 피할 수 있도록 꽤 간단한 파라미터로 구성하는 것이 일반적\n",
        "  - 일반화된 여러 모델이 협력해 평균 도출\n",
        "  - 충분히 일반화된 결과 도출 가능\n"
      ],
      "metadata": {
        "id": "rzFacZk3Zw3R"
      }
    },
    {
      "cell_type": "markdown",
      "source": [
        "각 시계열 샘플의 계산된 특징을 모델에 입력.\n",
        "\n",
        "원시 시계열 데이터는 다음의 잠재적인 문제를 가지고 있음\n",
        "- 균일하지 않은 길이의 시계열을 다루는 건 복잡함\n",
        "- (시간 단계의 개수와 동등한 수준의) 대규모 입력은 계산 비용이 비싼 모델과 학습 과정의 결과를 초래\n",
        "- (모든 시간 단계는 한 특징으로 매핑되기 때문에) 특정 시간 단계가 매우 중요하지 않다고 가정하면, 트리 관점에서는 시간 단계를 개별 입력으로 봐서 **매우 심한 노이즈**와 **약한 신호**만 존재\n",
        "\n",
        "따라서 원시 시계열 데이터로 작업할 때, 랜덤포레스트가 좋은 도구는 아님. 그러나 원시 데이터가 특징들로 압축되어 요약되면 매우 유용할 수 있다.\n",
        "\n"
      ],
      "metadata": {
        "id": "g7CLL7tSaxLl"
      }
    },
    {
      "cell_type": "markdown",
      "source": [
        "\n",
        "\n",
        "- 유용성을 뒷받침하는 구체적인 이유\n",
        "  - 효율성/계산 자원 관점에서, 매우 긴 시계열을 소수의 특징으로 추출하고 의미 있는 정확도를 가진 모델을 찾을 수 있다는 건 훌륭하다.\n",
        "  - 랜덤포레스트는 과적합의 위험을 줄이는 데 좋다. 고의적으로 단순한 방법을 사용하면 이런 우려의 일부를 해결할 수 있다.\n",
        "  - 랜덤포레스트는 process의 기본 동작에 대해 작동하는 모델이나, 가설이 없는 시계열 데이터에 특히 적합할 수 있다.\n",
        "\n",
        "**일반적으로 랜덤포레스트는 시계열 예측보다 시계열 분류에서 더 많은 성공을 거두었다.**"
      ],
      "metadata": {
        "id": "oHAmAvrqj9CX"
      }
    },
    {
      "cell_type": "markdown",
      "source": [
        "#### **1.2.2 그레이디언트 부스팅 트리**\n",
        "- Boosting은 모델들의 앙상블을 구축하는 또 다른 방법\n",
        "- 차례대로 생성되는 모델 중, 나중에 생성되는 모델이 이전 모델의 실수를 바로잡는 방향을 가짐\n",
        "  - 즉 이전 모델에서 잘못 적합된 데이터는 나중 모델에서 더 큰 가중치를 가지게 되는 방식\n"
      ],
      "metadata": {
        "id": "cuWzRxAGb2do"
      }
    },
    {
      "cell_type": "markdown",
      "source": [
        "\n",
        "**XGBoost**는 트리를 차례대로 만든다. 이때 각 트리는 이전 트리들의 결합에 대한 잔차를 예측한다.\n",
        "\n",
        "가령 XGBoost로 구축된 첫 번째 트리는 데이터와 일치하려고 시도하고, 두 번째 트리는 참값(target)에서 예측된 값을 뺀 **잔차**를 예측한다. 세 번째 트리는 참값에서 첫 번째 트리가 예측한 값, 첫 번째 트리의 잔차에 대해 두 번째 트리가 예측한 값을 뺀 것을 예측한다.\n"
      ],
      "metadata": {
        "id": "RBA-PXH0kAY9"
      }
    },
    {
      "cell_type": "markdown",
      "source": [
        "------------------\n",
        "#### **예제 code**\n",
        "앞서 생성한 특징을 기반으로 랜덤포레스트와 그레이디언트 부스팅 트리 모델을 모두 학습시켜서 EEG 데이터를 분류한다."
      ],
      "metadata": {
        "id": "L6itY0_xdUS6"
      }
    },
    {
      "cell_type": "code",
      "source": [
        "# 학습용, 테스트용 데이터셋 분리\n",
        "from sklearn.model_selection import train_test_split  # 혼공머신 Ch.2에서도 나왔던 것\n",
        "X_train, X_test, y_train, y_test = train_test_split(fset_cesium.values, eeg['classes'], random_state=21)"
      ],
      "metadata": {
        "id": "z8e_nePJdFL-"
      },
      "execution_count": null,
      "outputs": []
    },
    {
      "cell_type": "code",
      "source": [
        "fset_cesium.values"
      ],
      "metadata": {
        "colab": {
          "base_uri": "https://localhost:8080/"
        },
        "id": "7Cfo5pt-dLmO",
        "outputId": "5f130b1b-aefe-4228-f3d6-8334a07e230a"
      },
      "execution_count": null,
      "outputs": [
        {
          "output_type": "execute_result",
          "data": {
            "text/plain": [
              "array([[ 1.43500000e+02,  3.27312668e-01,  5.05003661e-01,\n",
              "         3.28049964e-02,  1.11077966e+04],\n",
              "       [ 2.11500000e+02,  2.90212351e-01,  6.40468636e-01,\n",
              "        -9.27149921e-02,  2.06535593e+04],\n",
              "       [ 1.65000000e+02,  3.02660483e-01,  5.15987308e-01,\n",
              "        -4.09990842e-03,  1.35376271e+04],\n",
              "       ...,\n",
              "       [ 1.35900000e+03,  2.70441787e-01,  6.28264584e-01,\n",
              "        -4.68130248e-01,  2.43156610e+05],\n",
              "       [ 1.59000000e+03,  3.05589456e-01,  4.89138394e-01,\n",
              "        -6.74033914e-01,  1.76856949e+05],\n",
              "       [ 1.39600000e+03,  2.25774957e-01,  6.06785453e-01,\n",
              "        -1.34775823e+00,  1.31037288e+05]])"
            ]
          },
          "metadata": {},
          "execution_count": 41
        }
      ]
    },
    {
      "cell_type": "code",
      "source": [
        "eeg['classes']"
      ],
      "metadata": {
        "colab": {
          "base_uri": "https://localhost:8080/"
        },
        "id": "xyNtgtxbd50d",
        "outputId": "f0e1529d-6970-46d3-d407-bc54341db6d1"
      },
      "execution_count": null,
      "outputs": [
        {
          "output_type": "execute_result",
          "data": {
            "text/plain": [
              "array(['Z', 'Z', 'Z', 'Z', 'Z', 'Z', 'Z', 'Z', 'Z', 'Z', 'Z', 'Z', 'Z',\n",
              "       'Z', 'Z', 'Z', 'Z', 'Z', 'Z', 'Z', 'Z', 'Z', 'Z', 'Z', 'Z', 'Z',\n",
              "       'Z', 'Z', 'Z', 'Z', 'Z', 'Z', 'Z', 'Z', 'Z', 'Z', 'Z', 'Z', 'Z',\n",
              "       'Z', 'Z', 'Z', 'Z', 'Z', 'Z', 'Z', 'Z', 'Z', 'Z', 'Z', 'Z', 'Z',\n",
              "       'Z', 'Z', 'Z', 'Z', 'Z', 'Z', 'Z', 'Z', 'Z', 'Z', 'Z', 'Z', 'Z',\n",
              "       'Z', 'Z', 'Z', 'Z', 'Z', 'Z', 'Z', 'Z', 'Z', 'Z', 'Z', 'Z', 'Z',\n",
              "       'Z', 'Z', 'Z', 'Z', 'Z', 'Z', 'Z', 'Z', 'Z', 'Z', 'Z', 'Z', 'Z',\n",
              "       'Z', 'Z', 'Z', 'Z', 'Z', 'Z', 'Z', 'Z', 'Z', 'O', 'O', 'O', 'O',\n",
              "       'O', 'O', 'O', 'O', 'O', 'O', 'O', 'O', 'O', 'O', 'O', 'O', 'O',\n",
              "       'O', 'O', 'O', 'O', 'O', 'O', 'O', 'O', 'O', 'O', 'O', 'O', 'O',\n",
              "       'O', 'O', 'O', 'O', 'O', 'O', 'O', 'O', 'O', 'O', 'O', 'O', 'O',\n",
              "       'O', 'O', 'O', 'O', 'O', 'O', 'O', 'O', 'O', 'O', 'O', 'O', 'O',\n",
              "       'O', 'O', 'O', 'O', 'O', 'O', 'O', 'O', 'O', 'O', 'O', 'O', 'O',\n",
              "       'O', 'O', 'O', 'O', 'O', 'O', 'O', 'O', 'O', 'O', 'O', 'O', 'O',\n",
              "       'O', 'O', 'O', 'O', 'O', 'O', 'O', 'O', 'O', 'O', 'O', 'O', 'O',\n",
              "       'O', 'O', 'O', 'O', 'O', 'N', 'N', 'N', 'N', 'N', 'N', 'N', 'N',\n",
              "       'N', 'N', 'N', 'N', 'N', 'N', 'N', 'N', 'N', 'N', 'N', 'N', 'N',\n",
              "       'N', 'N', 'N', 'N', 'N', 'N', 'N', 'N', 'N', 'N', 'N', 'N', 'N',\n",
              "       'N', 'N', 'N', 'N', 'N', 'N', 'N', 'N', 'N', 'N', 'N', 'N', 'N',\n",
              "       'N', 'N', 'N', 'N', 'N', 'N', 'N', 'N', 'N', 'N', 'N', 'N', 'N',\n",
              "       'N', 'N', 'N', 'N', 'N', 'N', 'N', 'N', 'N', 'N', 'N', 'N', 'N',\n",
              "       'N', 'N', 'N', 'N', 'N', 'N', 'N', 'N', 'N', 'N', 'N', 'N', 'N',\n",
              "       'N', 'N', 'N', 'N', 'N', 'N', 'N', 'N', 'N', 'N', 'N', 'N', 'N',\n",
              "       'N', 'F', 'F', 'F', 'F', 'F', 'F', 'F', 'F', 'F', 'F', 'F', 'F',\n",
              "       'F', 'F', 'F', 'F', 'F', 'F', 'F', 'F', 'F', 'F', 'F', 'F', 'F',\n",
              "       'F', 'F', 'F', 'F', 'F', 'F', 'F', 'F', 'F', 'F', 'F', 'F', 'F',\n",
              "       'F', 'F', 'F', 'F', 'F', 'F', 'F', 'F', 'F', 'F', 'F', 'F', 'F',\n",
              "       'F', 'F', 'F', 'F', 'F', 'F', 'F', 'F', 'F', 'F', 'F', 'F', 'F',\n",
              "       'F', 'F', 'F', 'F', 'F', 'F', 'F', 'F', 'F', 'F', 'F', 'F', 'F',\n",
              "       'F', 'F', 'F', 'F', 'F', 'F', 'F', 'F', 'F', 'F', 'F', 'F', 'F',\n",
              "       'F', 'F', 'F', 'F', 'F', 'F', 'F', 'F', 'F', 'F', 'S', 'S', 'S',\n",
              "       'S', 'S', 'S', 'S', 'S', 'S', 'S', 'S', 'S', 'S', 'S', 'S', 'S',\n",
              "       'S', 'S', 'S', 'S', 'S', 'S', 'S', 'S', 'S', 'S', 'S', 'S', 'S',\n",
              "       'S', 'S', 'S', 'S', 'S', 'S', 'S', 'S', 'S', 'S', 'S', 'S', 'S',\n",
              "       'S', 'S', 'S', 'S', 'S', 'S', 'S', 'S', 'S', 'S', 'S', 'S', 'S',\n",
              "       'S', 'S', 'S', 'S', 'S', 'S', 'S', 'S', 'S', 'S', 'S', 'S', 'S',\n",
              "       'S', 'S', 'S', 'S', 'S', 'S', 'S', 'S', 'S', 'S', 'S', 'S', 'S',\n",
              "       'S', 'S', 'S', 'S', 'S', 'S', 'S', 'S', 'S', 'S', 'S', 'S', 'S',\n",
              "       'S', 'S', 'S', 'S', 'S', 'S'], dtype='<U1')"
            ]
          },
          "metadata": {},
          "execution_count": 44
        }
      ]
    },
    {
      "cell_type": "code",
      "source": [
        "X_train"
      ],
      "metadata": {
        "colab": {
          "base_uri": "https://localhost:8080/"
        },
        "id": "_3NAJxNieWEA",
        "outputId": "337989a2-afa6-4a49-eb34-dfa1768c4b42"
      },
      "execution_count": null,
      "outputs": [
        {
          "output_type": "execute_result",
          "data": {
            "text/plain": [
              "array([[ 1.06750000e+03,  2.97778863e-01,  5.87503051e-01,\n",
              "        -6.26535406e-03,  1.01705763e+05],\n",
              "       [ 1.83500000e+02,  2.49938980e-01,  6.09714425e-01,\n",
              "        -9.37163974e-01,  1.18020339e+04],\n",
              "       [ 2.25000000e+02,  3.15596778e-01,  5.30388089e-01,\n",
              "        -1.15128193e-01,  1.38847458e+04],\n",
              "       ...,\n",
              "       [ 8.95000000e+01,  3.15108616e-01,  5.25018306e-01,\n",
              "        -2.69978337e-01,  5.55389831e+03],\n",
              "       [ 9.40000000e+01,  3.08762509e-01,  5.15255065e-01,\n",
              "        -1.85895885e-01,  3.29762712e+03],\n",
              "       [ 3.75500000e+02,  3.19257994e-01,  4.91335123e-01,\n",
              "        -1.47063561e-01,  2.18684746e+04]])"
            ]
          },
          "metadata": {},
          "execution_count": 46
        }
      ]
    },
    {
      "cell_type": "code",
      "source": [
        "y_train"
      ],
      "metadata": {
        "colab": {
          "base_uri": "https://localhost:8080/"
        },
        "id": "4UZRFixxeXEm",
        "outputId": "5ea8fea8-bbff-4915-cdf5-f055b496c44e"
      },
      "execution_count": null,
      "outputs": [
        {
          "output_type": "execute_result",
          "data": {
            "text/plain": [
              "array(['S', 'N', 'O', 'F', 'F', 'Z', 'N', 'Z', 'O', 'O', 'O', 'O', 'N',\n",
              "       'F', 'N', 'O', 'S', 'F', 'Z', 'S', 'O', 'S', 'F', 'O', 'N', 'Z',\n",
              "       'O', 'S', 'N', 'Z', 'O', 'N', 'F', 'F', 'S', 'Z', 'F', 'O', 'Z',\n",
              "       'O', 'S', 'Z', 'O', 'Z', 'N', 'S', 'Z', 'O', 'N', 'F', 'O', 'Z',\n",
              "       'O', 'S', 'O', 'O', 'O', 'O', 'S', 'F', 'O', 'S', 'F', 'F', 'S',\n",
              "       'Z', 'N', 'Z', 'F', 'S', 'F', 'S', 'S', 'S', 'Z', 'Z', 'O', 'F',\n",
              "       'S', 'Z', 'O', 'Z', 'O', 'Z', 'N', 'F', 'Z', 'Z', 'Z', 'F', 'F',\n",
              "       'Z', 'F', 'F', 'O', 'O', 'O', 'O', 'N', 'O', 'S', 'F', 'Z', 'N',\n",
              "       'F', 'O', 'O', 'F', 'N', 'O', 'F', 'N', 'F', 'F', 'S', 'S', 'S',\n",
              "       'N', 'F', 'S', 'O', 'S', 'O', 'F', 'F', 'F', 'F', 'O', 'S', 'S',\n",
              "       'S', 'S', 'F', 'Z', 'N', 'O', 'O', 'Z', 'Z', 'Z', 'Z', 'O', 'N',\n",
              "       'Z', 'Z', 'Z', 'N', 'N', 'F', 'Z', 'O', 'O', 'Z', 'S', 'O', 'N',\n",
              "       'O', 'Z', 'Z', 'F', 'Z', 'N', 'Z', 'F', 'Z', 'Z', 'N', 'N', 'S',\n",
              "       'F', 'S', 'O', 'F', 'F', 'O', 'O', 'S', 'N', 'F', 'O', 'F', 'S',\n",
              "       'S', 'S', 'O', 'O', 'S', 'N', 'O', 'N', 'S', 'S', 'Z', 'N', 'N',\n",
              "       'S', 'S', 'N', 'O', 'S', 'F', 'F', 'S', 'N', 'N', 'S', 'S', 'S',\n",
              "       'Z', 'F', 'F', 'F', 'O', 'S', 'Z', 'Z', 'Z', 'F', 'S', 'Z', 'F',\n",
              "       'Z', 'S', 'S', 'N', 'O', 'S', 'S', 'N', 'N', 'O', 'F', 'Z', 'Z',\n",
              "       'Z', 'S', 'N', 'Z', 'O', 'S', 'O', 'S', 'F', 'N', 'F', 'N', 'S',\n",
              "       'Z', 'F', 'S', 'Z', 'F', 'Z', 'F', 'F', 'N', 'F', 'F', 'O', 'N',\n",
              "       'Z', 'S', 'O', 'Z', 'F', 'F', 'Z', 'N', 'O', 'F', 'F', 'S', 'S',\n",
              "       'O', 'O', 'F', 'N', 'N', 'N', 'Z', 'O', 'Z', 'F', 'N', 'N', 'O',\n",
              "       'Z', 'O', 'O', 'N', 'N', 'O', 'Z', 'Z', 'Z', 'Z', 'O', 'F', 'O',\n",
              "       'S', 'S', 'Z', 'O', 'O', 'S', 'N', 'N', 'S', 'S', 'N', 'S', 'N',\n",
              "       'F', 'F', 'O', 'N', 'F', 'S', 'F', 'F', 'O', 'Z', 'F', 'F', 'N',\n",
              "       'F', 'N', 'N', 'S', 'N', 'S', 'N', 'Z', 'N', 'F', 'S', 'N', 'S',\n",
              "       'Z', 'S', 'N', 'N', 'O', 'O', 'O', 'N', 'F', 'O', 'F', 'Z', 'F',\n",
              "       'N', 'F', 'O', 'N', 'S', 'N', 'N', 'F', 'S', 'S', 'O', 'F', 'N',\n",
              "       'N', 'Z', 'O', 'S', 'O', 'F', 'Z', 'N', 'F', 'N', 'S'], dtype='<U1')"
            ]
          },
          "metadata": {},
          "execution_count": 47
        }
      ]
    },
    {
      "cell_type": "code",
      "source": [
        "# 랜덤포레스트를 사용해 EEG 데이터를 분류하는 모델 생성\n",
        "from sklearn.ensemble import RandomForestClassifier\n",
        "rf_clf = RandomForestClassifier(n_estimators = 10,\n",
        "                                max_depth = 3,\n",
        "                                random_state = 21)\n",
        "rf_clf.fit(X_train, y_train)"
      ],
      "metadata": {
        "colab": {
          "base_uri": "https://localhost:8080/"
        },
        "id": "FYVJibRzb2AW",
        "outputId": "2caf43fa-e9b6-473d-c0da-fca27bdaaf0f"
      },
      "execution_count": null,
      "outputs": [
        {
          "output_type": "execute_result",
          "data": {
            "text/plain": [
              "RandomForestClassifier(max_depth=3, n_estimators=10, random_state=21)"
            ]
          },
          "metadata": {},
          "execution_count": 48
        }
      ]
    },
    {
      "cell_type": "code",
      "source": [
        "# score method로 학습에 사용되지 않은 테스트 데이터셋에 대한 정확도 결정\n",
        "rf_clf.score(X_test, y_test)"
      ],
      "metadata": {
        "colab": {
          "base_uri": "https://localhost:8080/"
        },
        "id": "Xo17zdJSeaH2",
        "outputId": "3a10d48a-7112-46a4-d406-4187265bbdd0"
      },
      "execution_count": null,
      "outputs": [
        {
          "output_type": "execute_result",
          "data": {
            "text/plain": [
              "0.616"
            ]
          },
          "metadata": {},
          "execution_count": 49
        }
      ]
    },
    {
      "cell_type": "markdown",
      "source": [
        "약간의 코드 작성으로 (의학에 대해 모르는) 사람이 직접 분류하는 것보다 더 나은 모델을 만들었다. 이 모델은 전체 EEG 데이터 대산, 요약 통계를 입력으로 사용한 것으로, 좋은 특징이 선택된 덕분이라는 것을 기억하자."
      ],
      "metadata": {
        "id": "4Y2Y7xR1eru4"
      }
    },
    {
      "cell_type": "code",
      "source": [
        "# XGBoost\n",
        "import xgboost as xgb\n",
        "xgb_clf = xgb.XGBClassifier(n_estimators = 10,\n",
        "                            max_depth = 3,\n",
        "                            random_state = 21)\n",
        "xgb_clf.fit(X_train, y_train)\n",
        "xgb_clf.score(X_test, y_test)"
      ],
      "metadata": {
        "colab": {
          "base_uri": "https://localhost:8080/"
        },
        "id": "HWsykkTee1M1",
        "outputId": "2693589e-6f1c-447b-e36f-67074ed92c58"
      },
      "execution_count": null,
      "outputs": [
        {
          "output_type": "execute_result",
          "data": {
            "text/plain": [
              "0.648"
            ]
          },
          "metadata": {},
          "execution_count": 50
        }
      ]
    },
    {
      "cell_type": "code",
      "source": [
        "# 모델 학습에 소요된 시간 계산\n",
        "start = time.time()\n",
        "xgb_clf.fit(X_train, y_train)\n",
        "end = time.time()\n",
        "print(f'XGBoost 학습 소요 시간: {end - start}')\n",
        "\n",
        "start = time.time()\n",
        "rf_clf.fit(X_train, y_train)\n",
        "end = time.time()\n",
        "print(f'Random Forest 학습 소요 시간: {end - start}')"
      ],
      "metadata": {
        "colab": {
          "base_uri": "https://localhost:8080/"
        },
        "id": "TX4FGUeLfIB_",
        "outputId": "7f650080-0ec3-4249-edd4-678ec1ef6a99"
      },
      "execution_count": null,
      "outputs": [
        {
          "output_type": "stream",
          "name": "stdout",
          "text": [
            "XGBoost 학습 소요 시간: 0.05382132530212402\n",
            "Random Forest 학습 소요 시간: 0.02911376953125\n"
          ]
        }
      ]
    },
    {
      "cell_type": "markdown",
      "source": [
        "(일반적으로 XHBoost가 더 짧게 걸린다고 하는데.. 여긴 반대로 나와 있음. 그러나 상기 코드는 성능 테스트를 수행하는 방법이 아니라는 점을 인지하자.)"
      ],
      "metadata": {
        "id": "BtXwkvI7ftEe"
      }
    },
    {
      "cell_type": "markdown",
      "source": [
        "-------------------------------\n",
        "두 앙상블에 대해 통일한 트리 개수를 부여하고, 트리들의 깊이를 제한해서 복잡도를 낮춘 경우."
      ],
      "metadata": {
        "id": "v0d0C0zegCsy"
      }
    },
    {
      "cell_type": "code",
      "source": [
        "xgb_clf = xgb.XGBClassifier(n_estimators = 10,\n",
        "                            max_depth = 1,\n",
        "                            random_state = 21)\n",
        "xgb_clf.fit(X_train, y_train)\n",
        "print(xgb_clf.score(X_test, y_test))\n",
        "\n",
        "\n",
        "from sklearn.ensemble import RandomForestClassifier\n",
        "rf_clf = RandomForestClassifier(n_estimators = 10,\n",
        "                                max_depth = 1,\n",
        "                                random_state = 21)\n",
        "rf_clf.fit(X_train, y_train)\n",
        "print(rf_clf.score(X_test, y_test))"
      ],
      "metadata": {
        "colab": {
          "base_uri": "https://localhost:8080/"
        },
        "id": "GkSsRDR2gKz7",
        "outputId": "983fc39b-5a0d-4ce5-f763-0d5efb2fa5e3"
      },
      "execution_count": null,
      "outputs": [
        {
          "output_type": "stream",
          "name": "stdout",
          "text": [
            "0.632\n",
            "0.376\n"
          ]
        }
      ]
    },
    {
      "cell_type": "markdown",
      "source": [
        "- 이유\n",
        "  - 분류 작업에 선택된 모든 특징들이 유용하지는 않을 수 있음\n",
        "  - 부스팅은 항상 모든 특징을 사용하고, 관련도가 높은 것에 특혜를 줘서 의미 없는 특징이 무시될 가능성이 높음\n",
        "  - 배깅(랜덤포레스트)은 덜 의미 있는 특징을 사용하도록 강요 받을 수 있음\n",
        "  - 때문에 현실적으로 점검 불가능한 수준으로, 수백 개에 달하는 시계열의 특징을 생성할 때, 부스팅은 최악의 결과에 대한 일종의 안전 장치가 될 수 있다.\n"
      ],
      "metadata": {
        "id": "oONgtC_lgrlC"
      }
    },
    {
      "cell_type": "markdown",
      "source": [
        "-----------------------\n",
        "여러 통계학자는 예측에 있어서 머신러닝이 전통적인 통계 분석보다 덜 성공했다고 주장한다. 그러나 그레이디언트 부스팅 트리가 등장한 이래로, 큰 데이터가 주어질 때 머신러닝이 전통적인 통계 모델의 성능을 앞지른 경우를 많이 볼 수 있다.\n",
        "\n",
        "그레이디언트 부스팅 트리 모델의 한 가지 장점은 **'자율적으로'** 접근하는 능력을 가졌다는 것이다.\n",
        "\n",
        "즉 모델이 스스로 관련성이 적거나 노이즈가 많은 특징은 제거하고, 가장 중요한 특징들에 초점을 맞춘다는 것이다.\n",
        "\n",
        "그러나 아무리 좋아봐야 input 데이터를 뛰어넘을 수는 없다.\n",
        "\n",
        "모델을 향상시키기 위한 가장 중요한 벙법은 **검증된 고품질 input 특징**을 제공하는 것이다.\n"
      ],
      "metadata": {
        "id": "VFyu-jTKhYkT"
      }
    },
    {
      "cell_type": "markdown",
      "source": [
        "\n",
        "\n",
        "- **모델을 향상하는 여러 방법**\n",
        "  - XGBoost 옵션으로 생성 가능한 특징 중 **요도** 이용\n",
        "    - 특징의 유용성 파악에 도움\n",
        "    - 유용하다고 판단된 특징과 유사한 특징을 추가하는 방식으로 데이터셋 확장 가능\n",
        "  - 하이퍼파라미터 격자 탐색으로 모델 파라미터 조정\n",
        "  - 원시 시계열의 잘못 레이블링된 데이터 찾아보고, 현재 모델에 사용된 특징으로 표현 가능한지 확인\n",
        "    - 잘못 레이블링된 데이터를 보다 잘 묘사하는 특징을 추가해, input을 보강\n",
        "  \n"
      ],
      "metadata": {
        "id": "Y-cR6OJpkoQo"
      }
    },
    {
      "cell_type": "markdown",
      "source": [
        "-------------------------------------------------\n",
        "\n",
        "---\n",
        "\n"
      ],
      "metadata": {
        "id": "zdRovWbCjCzk"
      }
    },
    {
      "cell_type": "markdown",
      "source": [
        "## 2. 클러스터링\n",
        "기본 개념: 분석의 목적상 서로 유사한 데이터가 의미 있는 집단을 구성한다는 것\n",
        "\n",
        "(시계열 데이터뿐이 아니라 다른 데이터에도 적용됨)\n",
        "\n",
        "클러스터링 기법에 대해 잘 모른다면,\n",
        "* 참고: https://perma.cc/36EX-3QJU (https://www.analyticsvidhya.com/blog/2016/11/an-introduction-to-clustering-and-different-methods-of-clustering/)\n"
      ],
      "metadata": {
        "id": "lPWdBhu2isGA"
      }
    },
    {
      "cell_type": "code",
      "source": [
        ""
      ],
      "metadata": {
        "id": "OF1acA-yjnBE"
      },
      "execution_count": null,
      "outputs": []
    },
    {
      "cell_type": "code",
      "source": [
        ""
      ],
      "metadata": {
        "id": "SLAA2amNi8mN"
      },
      "execution_count": null,
      "outputs": []
    },
    {
      "cell_type": "code",
      "source": [
        ""
      ],
      "metadata": {
        "id": "F4hytggxirqc"
      },
      "execution_count": null,
      "outputs": []
    },
    {
      "cell_type": "code",
      "source": [
        ""
      ],
      "metadata": {
        "id": "RsvOyN_dixul"
      },
      "execution_count": null,
      "outputs": []
    },
    {
      "cell_type": "code",
      "source": [
        ""
      ],
      "metadata": {
        "id": "fAwalrCshNSO"
      },
      "execution_count": null,
      "outputs": []
    },
    {
      "cell_type": "code",
      "source": [
        ""
      ],
      "metadata": {
        "id": "oEcKqN9Ugkqu"
      },
      "execution_count": null,
      "outputs": []
    },
    {
      "cell_type": "code",
      "source": [
        ""
      ],
      "metadata": {
        "id": "IYewWXOhgi5E"
      },
      "execution_count": null,
      "outputs": []
    },
    {
      "cell_type": "code",
      "source": [
        ""
      ],
      "metadata": {
        "id": "1pS2TQYEghqt"
      },
      "execution_count": null,
      "outputs": []
    },
    {
      "cell_type": "code",
      "source": [
        ""
      ],
      "metadata": {
        "id": "eVg_19CQgdr2"
      },
      "execution_count": null,
      "outputs": []
    },
    {
      "cell_type": "code",
      "source": [
        ""
      ],
      "metadata": {
        "id": "SyazTvTtf6I2"
      },
      "execution_count": null,
      "outputs": []
    },
    {
      "cell_type": "code",
      "source": [
        ""
      ],
      "metadata": {
        "id": "rH4FwrNFfzz1"
      },
      "execution_count": null,
      "outputs": []
    },
    {
      "cell_type": "code",
      "source": [
        ""
      ],
      "metadata": {
        "id": "Pp17QaHefmRt"
      },
      "execution_count": null,
      "outputs": []
    },
    {
      "cell_type": "code",
      "source": [
        ""
      ],
      "metadata": {
        "id": "Q0tS3tkvenpN"
      },
      "execution_count": null,
      "outputs": []
    },
    {
      "cell_type": "code",
      "source": [
        ""
      ],
      "metadata": {
        "id": "VNM-TcL5awl_"
      },
      "execution_count": null,
      "outputs": []
    },
    {
      "cell_type": "code",
      "source": [
        ""
      ],
      "metadata": {
        "id": "7fDwXu1MaJW2"
      },
      "execution_count": null,
      "outputs": []
    },
    {
      "cell_type": "code",
      "source": [
        ""
      ],
      "metadata": {
        "id": "j-h36-M8ZgV_"
      },
      "execution_count": null,
      "outputs": []
    },
    {
      "cell_type": "code",
      "source": [
        ""
      ],
      "metadata": {
        "id": "jqprMyMXZbxH"
      },
      "execution_count": null,
      "outputs": []
    },
    {
      "cell_type": "code",
      "source": [
        ""
      ],
      "metadata": {
        "id": "CQ5lGTDGY9d-"
      },
      "execution_count": null,
      "outputs": []
    },
    {
      "cell_type": "code",
      "source": [
        ""
      ],
      "metadata": {
        "id": "0irQwwr7YwPv"
      },
      "execution_count": null,
      "outputs": []
    },
    {
      "cell_type": "code",
      "source": [
        ""
      ],
      "metadata": {
        "id": "qn34ztRgYruc"
      },
      "execution_count": null,
      "outputs": []
    },
    {
      "cell_type": "code",
      "source": [
        ""
      ],
      "metadata": {
        "id": "Klpb48LRYRRm"
      },
      "execution_count": null,
      "outputs": []
    },
    {
      "cell_type": "code",
      "source": [
        ""
      ],
      "metadata": {
        "id": "NFGyY5ELYNyf"
      },
      "execution_count": null,
      "outputs": []
    },
    {
      "cell_type": "code",
      "source": [
        ""
      ],
      "metadata": {
        "id": "VunIewH0YM2n"
      },
      "execution_count": null,
      "outputs": []
    },
    {
      "cell_type": "code",
      "source": [
        ""
      ],
      "metadata": {
        "id": "dCk2CIlCXFuf"
      },
      "execution_count": null,
      "outputs": []
    },
    {
      "cell_type": "code",
      "source": [
        ""
      ],
      "metadata": {
        "id": "Svb4VFeoWeym"
      },
      "execution_count": null,
      "outputs": []
    },
    {
      "cell_type": "code",
      "source": [
        ""
      ],
      "metadata": {
        "id": "44Bd62txWZx4"
      },
      "execution_count": null,
      "outputs": []
    },
    {
      "cell_type": "code",
      "source": [
        ""
      ],
      "metadata": {
        "id": "AIZxg88CV4Je"
      },
      "execution_count": null,
      "outputs": []
    },
    {
      "cell_type": "code",
      "source": [
        ""
      ],
      "metadata": {
        "colab": {
          "base_uri": "https://localhost:8080/",
          "height": 136
        },
        "id": "iVjPszS-VUm1",
        "outputId": "2e443a15-d4b6-4b0f-ec43-c738d457966e"
      },
      "execution_count": null,
      "outputs": [
        {
          "output_type": "error",
          "ename": "SyntaxError",
          "evalue": "ignored",
          "traceback": [
            "\u001b[0;36m  File \u001b[0;32m\"<ipython-input-18-82f61c0505e1>\"\u001b[0;36m, line \u001b[0;32m1\u001b[0m\n\u001b[0;31m    이는 특징 생성에 대한 가이드를 제공한다.\u001b[0m\n\u001b[0m        ^\u001b[0m\n\u001b[0;31mSyntaxError\u001b[0m\u001b[0;31m:\u001b[0m invalid syntax\n"
          ]
        }
      ]
    },
    {
      "cell_type": "code",
      "source": [
        ""
      ],
      "metadata": {
        "id": "hBGurYWXR5QZ"
      },
      "execution_count": null,
      "outputs": []
    },
    {
      "cell_type": "code",
      "source": [
        ""
      ],
      "metadata": {
        "id": "r9yT-JOdU_Gg"
      },
      "execution_count": null,
      "outputs": []
    },
    {
      "cell_type": "code",
      "source": [
        ""
      ],
      "metadata": {
        "id": "RbOMguJVU6uI"
      },
      "execution_count": null,
      "outputs": []
    },
    {
      "cell_type": "code",
      "source": [
        ""
      ],
      "metadata": {
        "id": "F9o8V44sRzdx"
      },
      "execution_count": null,
      "outputs": []
    },
    {
      "cell_type": "code",
      "source": [
        ""
      ],
      "metadata": {
        "id": "F3JB0YCfRqeJ"
      },
      "execution_count": null,
      "outputs": []
    },
    {
      "cell_type": "code",
      "source": [
        ""
      ],
      "metadata": {
        "id": "aJlMfxS7RZFB"
      },
      "execution_count": null,
      "outputs": []
    },
    {
      "cell_type": "code",
      "source": [
        ""
      ],
      "metadata": {
        "id": "4OXBuw39RW8I"
      },
      "execution_count": null,
      "outputs": []
    },
    {
      "cell_type": "code",
      "source": [
        ""
      ],
      "metadata": {
        "id": "JsfJbu1aRVV5"
      },
      "execution_count": null,
      "outputs": []
    },
    {
      "cell_type": "code",
      "source": [
        ""
      ],
      "metadata": {
        "id": "83bgXkQuRJkL"
      },
      "execution_count": null,
      "outputs": []
    },
    {
      "cell_type": "code",
      "source": [
        ""
      ],
      "metadata": {
        "id": "NFHaP6kLRFVZ"
      },
      "execution_count": null,
      "outputs": []
    },
    {
      "cell_type": "code",
      "execution_count": null,
      "metadata": {
        "id": "nZ7ubz9UQsf5"
      },
      "outputs": [],
      "source": [
        ""
      ]
    }
  ]
}